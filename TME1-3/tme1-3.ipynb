{
 "cells": [
  {
   "cell_type": "markdown",
   "metadata": {},
   "source": [
    "# Rapport TME 1-3 AMAL"
   ]
  },
  {
   "cell_type": "markdown",
   "metadata": {},
   "source": [
    "Découverte de PyTorch"
   ]
  },
  {
   "cell_type": "markdown",
   "metadata": {},
   "source": [
    "# TME 1 : Définition de fonctions en PyTorch"
   ]
  },
  {
   "cell_type": "code",
   "execution_count": 1,
   "metadata": {},
   "outputs": [],
   "source": [
    "from pathlib import Path\n",
    "import torch\n",
    "from torch.utils.data import Dataset, DataLoader\n",
    "import torch.nn as nn\n",
    "import matplotlib.pyplot as plt\n",
    "import torchvision.transforms as transforms\n",
    "import torchvision.datasets \n",
    "from pathlib import Path\n",
    "from torch.utils.tensorboard import SummaryWriter\n",
    "import datetime\n",
    "from torch.autograd import Function, gradcheck\n",
    "import datamaestro\n",
    "import numpy as np\n",
    "import torch.nn.functional as F"
   ]
  },
  {
   "cell_type": "markdown",
   "metadata": {},
   "source": [
    "## Classes Context, MSE et Linear"
   ]
  },
  {
   "cell_type": "code",
   "execution_count": 68,
   "metadata": {
    "collapsed": true
   },
   "outputs": [],
   "source": [
    "class Context:\n",
    "    \"\"\"\n",
    "    Un objet contexte très simplifié pour simuler PyTorch\n",
    "    Un contexte différent doit être utilisé à chaque forward\n",
    "    \"\"\"\n",
    "    def __init__(self):\n",
    "        self._saved_tensors = ()\n",
    "    def save_for_backward(self, *args):\n",
    "        self._saved_tensors = args\n",
    "    @property\n",
    "    def saved_tensors(self):\n",
    "        return self._saved_tensors\n",
    "\n",
    "\n",
    "class MSE(Function):\n",
    "    \"\"\"Implementation de la fonction MSE\"\"\"\n",
    "    @staticmethod\n",
    "    def forward(ctx, yhat, y):\n",
    "        ## Garde les valeurs nécessaires pour le backwards\n",
    "        ctx.save_for_backward(yhat, y)\n",
    "\n",
    "        return torch.sum((yhat-y)**2)/y.shape[0]\n",
    "\n",
    "    @staticmethod\n",
    "    def backward(ctx, grad_output):\n",
    "        ## Calcul du gradient du module par rapport a chaque groupe d'entrées\n",
    "        yhat, y = ctx.saved_tensors\n",
    "        q = y.shape[0]\n",
    "        tmp = 2/q*grad_output*(yhat-y)\n",
    "        return tmp, -tmp\n",
    "\n",
    "\n",
    "class Linear(Function):\n",
    "    \"\"\"Implémentation du linéaire\"\"\"\n",
    "    @staticmethod\n",
    "    def forward(ctx,X,W,b):\n",
    "        ctx.save_for_backward(X,W)\n",
    "        return X @ W + b\n",
    "    \n",
    "    @staticmethod\n",
    "    def backward(ctx,grad_output):\n",
    "        X, W = ctx.saved_tensors\n",
    "        return grad_output @ W.T, X.T @ grad_output, grad_output.sum(0).reshape(1,-1)"
   ]
  },
  {
   "cell_type": "markdown",
   "metadata": {},
   "source": [
    "## Test sur des données random"
   ]
  },
  {
   "cell_type": "code",
   "execution_count": 69,
   "metadata": {},
   "outputs": [
    {
     "data": {
      "text/plain": [
       "Text(0, 0.5, 'loss')"
      ]
     },
     "execution_count": 69,
     "metadata": {},
     "output_type": "execute_result"
    },
    {
     "data": {
      "image/png": "[encoded data removed]",
      "text/plain": [
       "<Figure size 432x288 with 1 Axes>"
      ]
     },
     "metadata": {
      "needs_background": "light"
     },
     "output_type": "display_data"
    }
   ],
   "source": [
    "### Les données supervisées ###\n",
    "x = torch.randn(50, 13)\n",
    "y = torch.randn(50, 3)\n",
    "\n",
    "### Les paramètres du modèle à optimiser ###\n",
    "w = torch.randn(13, 3)\n",
    "b = torch.randn(3)\n",
    "\n",
    "epsilon = 0.05\n",
    "\n",
    "ctxLinear = Context()\n",
    "ctxMSE = Context()\n",
    "\n",
    "#### Descente de Gradient ####\n",
    "\n",
    "liste_loss = []\n",
    "writer = SummaryWriter()\n",
    "for n_iter in range(100):\n",
    "    # Calcul du forward (loss)\n",
    "    yhat = Linear.forward(ctxLinear,x,w,b)\n",
    "    loss = MSE.forward(ctxMSE,yhat,y)\n",
    "\n",
    "    writer.add_scalar('Loss/train', loss, n_iter)\n",
    "    liste_loss.append(loss)\n",
    "    \n",
    "    # Calcul du backward (grad_w, grad_b)\n",
    "    _, grad_w, grad_b = Linear.backward(ctxLinear,MSE.backward(ctxMSE,1)[0])\n",
    "    \n",
    "    # Mise à jour des paramètres du modèle\n",
    "    w = w - epsilon*grad_w\n",
    "    b = b - epsilon*grad_b\n",
    "    \n",
    "plt.figure()\n",
    "plt.plot(liste_loss)\n",
    "plt.title(\"Valeur de la loss en fonction du nombre d'itérations\")\n",
    "plt.xlabel(\"nombre d'itérations\")\n",
    "plt.ylabel(\"loss\")"
   ]
  },
  {
   "cell_type": "markdown",
   "metadata": {},
   "source": [
    "# TME 2 : Graphe de calcul, autograd et modules"
   ]
  },
  {
   "cell_type": "markdown",
   "metadata": {},
   "source": [
    "## Préparation des données Boston Housing"
   ]
  },
  {
   "cell_type": "code",
   "execution_count": 2,
   "metadata": {},
   "outputs": [],
   "source": [
    "### Chargement des données ###\n",
    "data = datamaestro.prepare_dataset(\"edu.uci.boston\")\n",
    "colnames, datax, datay = data.data()\n",
    "datax = torch.tensor(datax,dtype=torch.float)\n",
    "datay = torch.tensor(datay,dtype=torch.float).reshape(-1,1)\n",
    "\n",
    "### Séparation en train/test ###\n",
    "n,_ = datax.shape\n",
    "ind_train = np.random.choice(range(n),int(n*0.8),replace=False)\n",
    "ind_test = list(set(range(n))-set(ind_train))\n",
    "\n",
    "xtrain = datax[ind_train]\n",
    "xtest = datax[ind_test]\n",
    "ytrain = datay[ind_train]\n",
    "ytest = datay[ind_test]\n",
    "\n",
    "### Normalisation des données ###\n",
    "mean_train = xtrain.mean()\n",
    "std_train = xtrain.std()\n",
    "\n",
    "xtrain = (xtrain - mean_train)/std_train\n",
    "xtest = (xtest - mean_train)/std_train"
   ]
  },
  {
   "cell_type": "markdown",
   "metadata": {},
   "source": [
    "## Descente de gradient avec autograd : batch, stochastique ou mini-batch"
   ]
  },
  {
   "cell_type": "markdown",
   "metadata": {},
   "source": [
    "La descente du Gradient est un algorithme qui a pour objective de minimiser une fonction avec une approche itérative.\n",
    "<br>\n",
    "Il existe plusieurs type de descente de gradient:\n",
    "<br>\n",
    "Stochastique: Tirage aléatoire d'un exemple ensuite mise à jour des poids pour ce dernier. Et on réitère.\n",
    "<br>\n",
    "Batch: Mise à jour des poids sur l'ensemble des exemples d'aprentissage.\n",
    "<br>\n",
    "Mini-Batch: Compromis entre les deux méthodes précédentes. On mets à jour les poids sur des sous-ensembles des exemples d'apprentissage.\n"
   ]
  },
  {
   "cell_type": "code",
   "execution_count": 3,
   "metadata": {
    "collapsed": true
   },
   "outputs": [],
   "source": [
    "type_desc = 'stochastique' # choix du type de descente : 'batch', 'stochastique', 'mini-batch'\n",
    "\n",
    "epsilon = 0.001\n",
    "nb_iter = 300\n",
    "size_batch = 20 # taille du batch pour le mini-batch\n",
    "\n",
    "w = torch.randn((xtrain.shape[1],ytrain.shape[1]), requires_grad=True)\n",
    "b = torch.randn(ytrain.shape[1], requires_grad=True)\n",
    "\n",
    "writer = SummaryWriter()\n",
    "loss_train = []\n",
    "loss_test = []\n",
    "\n",
    "for n_iter in range(nb_iter):\n",
    "\n",
    "    if type_desc == 'batch':\n",
    "        ind = range(len(xtrain))\n",
    "        \n",
    "    elif type_desc == 'stochastique':\n",
    "        ind = np.random.randint(xtrain.shape[0])\n",
    "    \n",
    "    elif type_desc == 'mini-batch':\n",
    "        ind = np.random.choice(xtrain.shape[0],size_batch,replace=False)\n",
    "    \n",
    "    yhat = xtrain[ind] @ w + b\n",
    "    loss = torch.mean((yhat-ytrain[ind])**2)\n",
    "    \n",
    "    writer.add_scalar('Loss/train', loss, n_iter)\n",
    "    writer.add_scalar('Loss/test', torch.mean((xtest @ w + b-ytest)**2), n_iter)\n",
    "    \n",
    "    loss_train.append(loss)\n",
    "    loss_test.append(torch.mean((xtest @ w + b-ytest)**2))\n",
    "    \n",
    "    loss.backward()\n",
    "    \n",
    "    with torch.no_grad():\n",
    "        w -= epsilon*w.grad\n",
    "        b -= epsilon*b.grad\n",
    "        w.grad.zero_()\n",
    "        b.grad.zero_()"
   ]
  },
  {
   "cell_type": "markdown",
   "metadata": {},
   "source": [
    "| **batch** | **mini-batch taille 20** | **stochastique** |\n",
    "| :------------: | :------------: | :------------: |\n",
    "| ![](Img/tme2_batch.png) | ![](Img/tme2_mini-batch.png) | ![](Img/tme2_stochastique.png) |\n",
    "\n",
    "Stochastique: La loss n'est pas très \"smooth\" en train car la mise à jour des paramètres se fait seulement sur un seul exemple à chaque itération.\n",
    "<br>\n",
    "Plus la taille du batch est grande, plus la loss est smooth. Le temps d'entraînement est cependant plus long."
   ]
  },
  {
   "cell_type": "markdown",
   "metadata": {},
   "source": [
    "## Descente de gradient avec optimiseur et module"
   ]
  },
  {
   "cell_type": "code",
   "execution_count": 41,
   "metadata": {},
   "outputs": [],
   "source": [
    "h=10\n",
    "epsilon = 0.005\n",
    "nb_iter = 400\n",
    "\n",
    "### Modele ###\n",
    "m1 = torch.nn.Linear(xtrain.shape[1],h)\n",
    "act = torch.nn.ReLU()\n",
    "m2 = torch.nn.Linear(h,1)\n",
    "mse = torch.nn.MSELoss()\n",
    "model = torch.nn.Sequential(m1, act, m2)\n",
    "\n",
    "### Optimiseur ###\n",
    "optim = torch.optim.SGD(params=[m1.weight,m1.bias,m2.weight,m2.bias],lr=epsilon)\n",
    "optim.zero_grad()\n",
    "\n",
    "### Paramètres ###\n",
    "w = torch.nn.Parameter(torch.randn(xtrain.shape[1],ytrain.shape[1]))\n",
    "b = torch.nn.Parameter(torch.randn(ytrain.shape[1]))\n",
    "\n",
    "loss_train = []\n",
    "loss_test = []\n",
    "\n",
    "for n_iter in range(nb_iter):\n",
    "    \n",
    "    yhat = model(xtrain)\n",
    "    loss = mse(yhat,ytrain) # Calcul du Coût\n",
    "    \n",
    "    loss_train.append(loss)\n",
    "    \n",
    "    loss.backward() # Rétropropagation\n",
    "    optim.step()\n",
    "    optim.zero_grad()\n",
    "\n",
    "    with torch.no_grad():\n",
    "        loss_test.append(mse(model(xtest),ytest)) # loss en test"
   ]
  },
  {
   "cell_type": "markdown",
   "metadata": {},
   "source": [
    "| **eps=0.005** | **eps=0.001** |\n",
    "| :------------: | :------------: |\n",
    "| ![](Img/tme2_2_eps=0.005.png) | ![](Img/tme2_2_eps=0.001.png) |\n",
    "\n",
    "La fonction d'activation utilisée ici est la ReLU (et non pas Tanh).\n",
    "<br>\n",
    "Avec eps=0.005, le modèle semble avoir atteint un minimum local mais s'en écarte à cause du pas de gradient trop élevé (d'où les petits pics en 250 et 350)."
   ]
  },
  {
   "cell_type": "markdown",
   "metadata": {},
   "source": [
    "Mis à part du conteneur \"Sequential\", il existe d'autre types de conteneurs, dans ces derniers les modules peuvent être contenu dans des listes, des dictionnaires. Les paramètres sont aussi mises respectivement dans des listes et des dictionnnaires."
   ]
  },
  {
   "cell_type": "markdown",
   "metadata": {},
   "source": [
    "# TME 3 : Définition de fonctions en pyTorch"
   ]
  },
  {
   "cell_type": "markdown",
   "metadata": {},
   "source": [
    "## Classes MonDataset, AutoEncoder et State"
   ]
  },
  {
   "cell_type": "code",
   "execution_count": 142,
   "metadata": {
    "collapsed": true
   },
   "outputs": [],
   "source": [
    "class MonDataset(Dataset):\n",
    "    def __init__(self,X,y):\n",
    "        self.X = X.float().reshape(len(X),-1)\n",
    "        self.X /= 255\n",
    "        self.y = y\n",
    "    def __getitem__(self,index):\n",
    "        return self.X[index], self.y[index]\n",
    "    def __len__(self):\n",
    "        return len(self.X)\n",
    "\n",
    "class AutoEncoder(nn.Module):\n",
    "    def __init__(self,D_in,D_h):\n",
    "        super(AutoEncoder, self).__init__()\n",
    "        self.encoder = nn.Linear(D_in,D_h,bias=False)\n",
    "        self.act1 = nn.ReLU()\n",
    "        self.act2 = nn.Sigmoid()\n",
    "        \n",
    "    def forward(self,x):\n",
    "        encoded = self.act1(self.encoder(x))\n",
    "        return self.act2(F.linear(encoded,self.encoder.weight.t()))  \n",
    "\n",
    "class State:\n",
    "    def __init__(self,model,optim):\n",
    "        self.model = model\n",
    "        self.optim = optim\n",
    "        self.epoch, self.iteration = 0, 0"
   ]
  },
  {
   "cell_type": "markdown",
   "metadata": {},
   "source": [
    "L'avantage du partage des poids dans l'auto-encodeur est qu'il y a moins de paramètres à apprendre."
   ]
  },
  {
   "cell_type": "markdown",
   "metadata": {},
   "source": [
    "## Chargement des données"
   ]
  },
  {
   "cell_type": "code",
   "execution_count": 220,
   "metadata": {
    "collapsed": true
   },
   "outputs": [],
   "source": [
    "### Chargement des données ###\n",
    "mnist_train = torchvision.datasets.MNIST('/tmp/mnist/data', train=True, transform=transforms.ToTensor())\n",
    "mnist_test = torchvision.datasets.MNIST('/tmp/mnist/data', train=False, transform=transforms.ToTensor())\n",
    "\n",
    "train_images, train_labels = mnist_train.train_data, mnist_train.train_labels\n",
    "test_images, test_labels = mnist_test.test_data, mnist_test.test_labels\n",
    "\n",
    "train = MonDataset(train_images,train_labels)\n",
    "test = MonDataset(test_images,test_labels)"
   ]
  },
  {
   "cell_type": "markdown",
   "metadata": {},
   "source": [
    "## Test de l'auto-encodeur"
   ]
  },
  {
   "cell_type": "code",
   "execution_count": 221,
   "metadata": {
    "collapsed": true
   },
   "outputs": [],
   "source": [
    "### Paramètres ###\n",
    "batch_size = 128\n",
    "D_in, D_h = len(train[0][0]), 100\n",
    "lr = 0.005\n",
    "nb_epoch = 4\n",
    "\n",
    "### DataLoader ###\n",
    "train_loader = DataLoader(train, batch_size=batch_size, shuffle=True, drop_last=True)       \n",
    "test_loader = DataLoader(test, batch_size=batch_size, shuffle=True, drop_last=True)\n",
    "\n",
    "savepath = Path('autoencoder.pch')\n",
    "device = torch.device('cuda' if torch.cuda.is_available() else 'cpu')\n",
    "writer = SummaryWriter(\"runs/runs\"+datetime.datetime.now().strftime(\"%Y%m%d-%H%M%S\"))\n",
    "\n",
    "if savepath.is_file():\n",
    "    with savepath.open('rb') as fp:\n",
    "        state = torch.load(fp)\n",
    "else:\n",
    "    model = AutoEncoder(D_in,D_h)\n",
    "    model = model.to(device)\n",
    "    optim = torch.optim.Adam(model.parameters(),lr=lr)\n",
    "    loss_fn = nn.MSELoss()\n",
    "    state = State(model,optim)\n",
    "\n",
    "for epoch in range(state.epoch,nb_epoch):\n",
    "    for x,y in train_loader: # pour chaque batch\n",
    "        state.optim.zero_grad()\n",
    "        x = x.to(device)\n",
    "        xhat = model(x)\n",
    "        loss = loss_fn(xhat,x)\n",
    "        writer.add_scalar('Loss/train',loss,state.iteration)\n",
    "        loss.backward()\n",
    "        state.optim.step()\n",
    "        state.iteration += 1\n",
    "    \n",
    "    with savepath.open(\"wb\") as fp:\n",
    "        state.epoch = epoch + 1\n",
    "        torch.save(state,fp)"
   ]
  },
  {
   "cell_type": "code",
   "execution_count": 223,
   "metadata": {
    "scrolled": true
   },
   "outputs": [
    {
     "data": {
      "image/png": "[encoded data removed]",
      "text/plain": [
       "<Figure size 432x288 with 2 Axes>"
      ]
     },
     "metadata": {
      "needs_background": "light"
     },
     "output_type": "display_data"
    },
    {
     "data": {
      "image/png": "[encoded data removed]",
      "text/plain": [
       "<Figure size 432x288 with 2 Axes>"
      ]
     },
     "metadata": {
      "needs_background": "light"
     },
     "output_type": "display_data"
    },
    {
     "data": {
      "image/png": "[encoded data removed]",
      "text/plain": [
       "<Figure size 432x288 with 2 Axes>"
      ]
     },
     "metadata": {
      "needs_background": "light"
     },
     "output_type": "display_data"
    },
    {
     "data": {
      "image/png": "[encoded data removed]",
      "text/plain": [
       "<Figure size 432x288 with 2 Axes>"
      ]
     },
     "metadata": {
      "needs_background": "light"
     },
     "output_type": "display_data"
    },
    {
     "data": {
      "image/png": "[encoded data removed]",
      "text/plain": [
       "<Figure size 432x288 with 2 Axes>"
      ]
     },
     "metadata": {
      "needs_background": "light"
     },
     "output_type": "display_data"
    }
   ],
   "source": [
    "for i in range(5):\n",
    "    fig, ax = plt.subplots(1, 2, figsize=(6,4))\n",
    "    ax[0].imshow(test[i][0].view(28,28).numpy(),cmap='gray',)\n",
    "    ax[0].set_title(\"original\")\n",
    "    ax[1].imshow(model(test[i][0]).view(28,28).detach().numpy(),cmap='gray')\n",
    "    ax[1].set_title(\"reconstructed\")"
   ]
  },
  {
   "cell_type": "markdown",
   "metadata": {},
   "source": [
    "On obtient une petite valeur de loss (0.0124). L'optimiser Adam a permis une convergence bien plus rapide qu'avec l'optimiseur SGD. Les images reconstruites sont un peu floues, elles manquent un peu de précision, notamment les chiffres semblent s'étaler légèrement. Par exemple les chiffres 1, 2 et 4 est plus épais dans l'image recontruite."
   ]
  },
  {
   "cell_type": "markdown",
   "metadata": {},
   "source": [
    "## Embedding avec tensorboard"
   ]
  },
  {
   "cell_type": "code",
   "execution_count": 219,
   "metadata": {
    "collapsed": true
   },
   "outputs": [],
   "source": [
    "### Récupération des features sur 500 images des données de test ###\n",
    "features = model.act1(model.encoder(test[:500][0]))\n",
    "\n",
    "### Utilisation de tensorboard ###\n",
    "writer = SummaryWriter()\n",
    "writer.add_embedding(features, metadata=test[:500][1], label_img=test_images[:500].unsqueeze(1))"
   ]
  },
  {
   "cell_type": "markdown",
   "metadata": {},
   "source": [
    "![](Img/tme3_embedding_umap.PNG)"
   ]
  },
  {
   "cell_type": "markdown",
   "metadata": {},
   "source": [
    "On voit un regroupement de 6 au milieu, ainsi qu'un regroupement de 3 en bas à droite. De plus, on peut voir qu'il y a un regroupement de 1 en haut à droite, tandis qu'il y a un regroupement de 0 à l'opposé, en bas à gauche. Ces deux chiffres étant très différents, on a une bonne représentationNotre modèle semble donc avoir assez bien conservé les features importants des données."
   ]
  },
  {
   "cell_type": "markdown",
   "metadata": {},
   "source": [
    "## Interpolation des représentations"
   ]
  },
  {
   "cell_type": "code",
   "execution_count": null,
   "metadata": {
    "collapsed": true
   },
   "outputs": [],
   "source": [
    "### Choix images ###\n",
    "img1 = test[2][0]\n",
    "img2 = test[3][0]\n",
    "\n",
    "### Encodage des images ###\n",
    "z1 = model.encoder(img1)\n",
    "z2 = model.encoder(img2)\n",
    "\n",
    "### Affichage ###\n",
    "fig, ax = plt.subplots(1, 11, figsize=(20,4))\n",
    "l = np.linspace(0,1,11)\n",
    "for i in range(11):\n",
    "    z = l[i]*z1 + (1-l[i])*z2\n",
    "    d = model.decoder(z)\n",
    "    ax[i].imshow(d.view(28,28).detach().numpy(),cmap='gray')"
   ]
  },
  {
   "cell_type": "markdown",
   "metadata": {},
   "source": [
    "**Entre 7 et 3 :**\n",
    "![](Img/tme3_7_3.png)\n",
    "**Entre 9 et 6 :**\n",
    "![](Img/tme3_9_6.png)\n",
    "**Entre 0 et 1 :**\n",
    "![](Img/tme3_0_1.png)\n",
    "\n",
    "On affiche le décodage de l'interpolation avec lambda variant avec un pas de 0.1. On peut voir la transition entre les deux chiffres."
   ]
  },
  {
   "cell_type": "markdown",
   "metadata": {},
   "source": [
    "## Highway Network\n",
    "\n",
    "R.K.Srivastava, K.Greff, and J.Schmidhuber, Highway networks, 2015. https://arxiv.org/abs/1505.00387"
   ]
  },
  {
   "cell_type": "code",
   "execution_count": 66,
   "metadata": {
    "collapsed": true
   },
   "outputs": [],
   "source": [
    "class HighwayLayer(nn.Module):\n",
    "    def __init__(self,in_size,out_size):\n",
    "        super(HighwayLayer, self).__init__()\n",
    "        self.H = nn.Linear(in_size,out_size)\n",
    "        self.T = nn.Linear(in_size,out_size)\n",
    "        self.actT = nn.Sigmoid()\n",
    "        self.actH = nn.ReLU()\n",
    "        self.X = nn.Linear(in_size,out_size) # pour changer la dimension si besoin\n",
    "        \n",
    "    def forward(self,input):\n",
    "        h = self.actH(self.H(input))\n",
    "        t = self.actT(self.T(input))\n",
    "        x = self.X(input)\n",
    "        return h*t + x*(1-t)\n",
    "    \n",
    "class HighwayNetwork(nn.Module):\n",
    "    def __init__(self,in_size,out_size,list_h):\n",
    "        super(HighwayNetwork, self).__init__()\n",
    "        self.list_h = [in_size] + list_h + [out_size]\n",
    "        self.hlayers = nn.ModuleList([HighwayLayer(self.list_h[i],self.list_h[i+1]) for i in range(len(self.list_h)-1)])\n",
    "    \n",
    "    def forward(self,x):\n",
    "        for i in range(len(self.list_h)-1):\n",
    "            x = self.hlayers[i](x)\n",
    "        return x"
   ]
  },
  {
   "cell_type": "markdown",
   "metadata": {},
   "source": [
    "## Test du Highway network dans le problème d'encodage/décodage des images"
   ]
  },
  {
   "cell_type": "code",
   "execution_count": 230,
   "metadata": {
    "collapsed": true,
    "scrolled": true
   },
   "outputs": [],
   "source": [
    "### Paramètres ###\n",
    "batch_size = 128\n",
    "D_in, D_h = len(train[0][0]), 256\n",
    "lr = 0.001\n",
    "nb_epoch = 1\n",
    "\n",
    "### DataLoader ###\n",
    "train_loader = DataLoader(train, batch_size=batch_size, shuffle=True, drop_last=True)       \n",
    "test_loader = DataLoader(test, batch_size=batch_size, shuffle=True, drop_last=True)\n",
    "\n",
    "savepath = Path('highway.pch')\n",
    "device = torch.device('cuda' if torch.cuda.is_available() else 'cpu')\n",
    "writer = SummaryWriter(\"runs/runs\"+datetime.datetime.now().strftime(\"%Y%m%d-%H%M%S\"))\n",
    "\n",
    "if savepath.is_file():\n",
    "    with savepath.open('rb') as fp:\n",
    "        state = torch.load(fp)\n",
    "else:\n",
    "    model = HighwayNetwork(D_in,D_in,[392,256,128,256,392])\n",
    "    model = model.to(device)\n",
    "    optim = torch.optim.Adam(model.parameters(),lr=lr)\n",
    "    loss_fn = nn.MSELoss()\n",
    "    state = State(model,optim)\n",
    "\n",
    "for epoch in range(state.epoch,nb_epoch):\n",
    "    \n",
    "    for x,y in train_loader:\n",
    "        state.optim.zero_grad()\n",
    "        x = x.to(device)\n",
    "        xhat = model(x)\n",
    "        loss = loss_fn(xhat,x)\n",
    "        writer.add_scalar('Loss/train',loss,state.iteration)\n",
    "        loss.backward()\n",
    "        state.optim.step()\n",
    "        state.iteration += 1\n",
    "    \n",
    "    with savepath.open(\"wb\") as fp:\n",
    "        state.epoch = epoch + 1\n",
    "        torch.save(state,fp)"
   ]
  },
  {
   "cell_type": "code",
   "execution_count": 251,
   "metadata": {
    "scrolled": true
   },
   "outputs": [
    {
     "data": {
      "image/png": "[encoded data removed]",
      "text/plain": [
       "<Figure size 432x288 with 2 Axes>"
      ]
     },
     "metadata": {
      "needs_background": "light"
     },
     "output_type": "display_data"
    },
    {
     "data": {
      "image/png": "[encoded data removed]",
      "text/plain": [
       "<Figure size 432x288 with 2 Axes>"
      ]
     },
     "metadata": {
      "needs_background": "light"
     },
     "output_type": "display_data"
    },
    {
     "data": {
      "image/png": "[encoded data removed]",
      "text/plain": [
       "<Figure size 432x288 with 2 Axes>"
      ]
     },
     "metadata": {
      "needs_background": "light"
     },
     "output_type": "display_data"
    },
    {
     "data": {
      "image/png": "[encoded data removed]",
      "text/plain": [
       "<Figure size 432x288 with 2 Axes>"
      ]
     },
     "metadata": {
      "needs_background": "light"
     },
     "output_type": "display_data"
    },
    {
     "data": {
      "image/png": "[encoded data removed]",
      "text/plain": [
       "<Figure size 432x288 with 2 Axes>"
      ]
     },
     "metadata": {
      "needs_background": "light"
     },
     "output_type": "display_data"
    }
   ],
   "source": [
    "for i in range(5):\n",
    "    fig, ax = plt.subplots(1, 2, figsize=(6,4))\n",
    "    ax[0].imshow(test[i][0].view(28,28).numpy(),cmap='gray',)\n",
    "    ax[0].set_title(\"original\")\n",
    "    ax[1].imshow(model(test[i][0]).view(28,28).detach().numpy(),cmap='gray')\n",
    "    ax[1].set_title(\"reconstructed\")"
   ]
  },
  {
   "cell_type": "markdown",
   "metadata": {},
   "source": [
    "On obtient à la fin une valeur de loss très petite (0.0127). A première vue, les résultats ne semblent pas très satisfaisants : l'image reconstruite semble floue et les niveaux de gris semblent un peu décalés. Cependant, cela est peut-être dû à un problème d'affichage : en effet, la fonction imshow() de matplotlib normalise l'image en réalisant une mise à l'échelle dans laquelle la plus petite valeur est mise à 0, tandis que la plus grande valeur est mise à 1. Cela peut poser problème lorsque l'ensemble des pixels sont d'intensité proche ou lorsque un pixel a une valeur extrême. Appliquer une égalisation d'histogramme à l'image pourrait régler le problème.\n",
    "<br>\n",
    "Par exemple, dans l'image du chiffre 2, la valeur min de l'image reconstruite vaut -0.2960, tandis que sa valeur max vaut 1.3288."
   ]
  }
 ],
 "metadata": {
  "kernelspec": {
   "display_name": "Python 3",
   "language": "python",
   "name": "python3"
  },
  "language_info": {
   "codemirror_mode": {
    "name": "ipython",
    "version": 3
   },
   "file_extension": ".py",
   "mimetype": "text/x-python",
   "name": "python",
   "nbconvert_exporter": "python",
   "pygments_lexer": "ipython3",
   "version": "3.7.3"
  }
 },
 "nbformat": 4,
 "nbformat_minor": 2
}
